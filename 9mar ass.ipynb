{
 "cells": [
  {
   "cell_type": "code",
   "execution_count": null,
   "id": "ec72d71f-5b09-4148-a4ec-0b81bbaa23df",
   "metadata": {},
   "outputs": [],
   "source": [
    "Q1: What are the Probability Mass Function (PMF) and Probability Density Function (PDF)? Explain with\n",
    "an example."
   ]
  },
  {
   "cell_type": "code",
   "execution_count": null,
   "id": "9f78fc0b-6c2a-4c1e-9d44-de9009b017db",
   "metadata": {},
   "outputs": [],
   "source": [
    "The Probability Mass Function (PMF) is a function that gives the probability\n",
    "of a discrete random variable taking on a specific value. In simpler terms, it describes\n",
    "the likelihood of each possible outcome in a discrete \n",
    "probability distribution. Mathematically, for a random variable X, \n",
    "the PMF is often denoted as P(X = x), where x is a specific\n",
    "value the random variable can take.\n",
    "\n",
    "\n",
    "\n",
    "The Probability Density Function (PDF) is a function that describes the likelihood\n",
    "of a continuous random variable falling within a particular range\n",
    "Consider the height of individuals in a population. The PDF would describe the \n",
    "likelihood of finding someone with a height within a specific range (e.g., between 160 cm and 170 cm). \n",
    "Unlike the PMF, where you can assign a probability to each specific height, in the PDF,\n",
    "you'd look at the probability density over a range of heights.\n"
   ]
  },
  {
   "cell_type": "code",
   "execution_count": null,
   "id": "053ab13a-0a21-42f4-9741-80fda864d960",
   "metadata": {},
   "outputs": [],
   "source": [
    "Q2: What is Cumulative Density Function (CDF)? Explain with an example. Why CDF is used?"
   ]
  },
  {
   "cell_type": "code",
   "execution_count": null,
   "id": "cafd55c8-9797-4b98-94a3-090b4768a6fc",
   "metadata": {},
   "outputs": [],
   "source": [
    "The Cumulative Density Function (CDF) is a function that gives the probability that a random \n",
    "variable takes on a value less than or equal to a specified point\n",
    "f you want to find the probability of rolling a 3 or less, the CDF would be F(3) = P(X ≤ 3).\n",
    "\n",
    "\n",
    "CDF provides cumulative information about the probability distribution. \n",
    "You can find the probability of being below or equal to a specific value\n",
    "\n",
    "CDF makes it easy to calculate probabilities for ranges of values. For example, if you want\n",
    "to know the probability of an event occurring within a certain range, "
   ]
  },
  {
   "cell_type": "code",
   "execution_count": null,
   "id": "e67caa21-c243-4bd4-a33a-24a68032a719",
   "metadata": {},
   "outputs": [],
   "source": [
    "Q3: What are some examples of situations where the normal distribution might be used as a model?\n",
    "Explain how the parameters of the normal distribution relate to the shape of the distribution."
   ]
  },
  {
   "cell_type": "code",
   "execution_count": null,
   "id": "0166de7d-a74c-4ed3-834f-9003c5ff5f11",
   "metadata": {},
   "outputs": [],
   "source": [
    "\n",
    "Examples of Situations Where Normal Distribution Might Be Used:\n",
    "\n",
    "Height of Individuals:The distribution of human heights is often modeled as approximately normal. \n",
    "Test Scores:\n",
    "\n",
    "In educational settings, the distribution of test scores \n",
    "for a large group of students often approximates a normal distribution"
   ]
  },
  {
   "cell_type": "code",
   "execution_count": null,
   "id": "43cd466c-0b63-412d-8626-bf5a87267fa2",
   "metadata": {},
   "outputs": [],
   "source": [
    "Q4: Explain the importance of Normal Distribution. Give a few real-life examples of Normal\n",
    "Distribution."
   ]
  },
  {
   "cell_type": "code",
   "execution_count": null,
   "id": "0572df45-d7de-4b17-b3b0-839ab46bc11c",
   "metadata": {},
   "outputs": [],
   "source": [
    "Normal distribution, also known as the Gaussian distribution or \n",
    "bell curve, is often observed in natural phenomena. \n",
    "Many natural processes, measurements, and characteristics of \n",
    "populations tend to follow a normal distribution.\n",
    "Statistical Inference:\n",
    "\n",
    "Normal distribution is crucial in statistics and hypothesis testing. \n",
    "Many statistical methods, such as t-tests and analysis of variance (ANOVA),\n",
    "assume that the data follows a normal distribution. \n",
    "\n",
    "The Central Limit Theorem states that the distribution of the sum (or average) of a \n",
    "large number of independent, identically distributed random variables approaches a\n",
    "normal distribution, regardless of the original distribution. "
   ]
  },
  {
   "cell_type": "code",
   "execution_count": null,
   "id": "b5829e09-49e2-4a5d-850e-d6b2b2d823ed",
   "metadata": {},
   "outputs": [],
   "source": [
    "Q5: What is Bernaulli Distribution? Give an Example. What is the difference between Bernoulli\n",
    "Distribution and Binomial Distribution?"
   ]
  },
  {
   "cell_type": "code",
   "execution_count": null,
   "id": "b3776f48-0228-404b-b6c3-68821c8f8320",
   "metadata": {},
   "outputs": [],
   "source": [
    "The Bernoulli Distribution is a discrete probability distribution that models a random \n",
    "experiment with two possible outcomes: success and failure. It is named after\n",
    "the Swiss mathematician Jacob Bernoulli. The outcomes are often denoted as 1 for success and 0 for failure. \n",
    "The probability of success is typically denoted by \n",
    "\n",
    "p, and the probability of failure is 1−p.\n",
    " flipping a fair coin. Let's define success (1) as getting heads and failure (0) \n",
    "    as getting tails. The probability of getting heads (\n",
    "\n",
    "p) is 0.5, and the probability of getting tails (\n",
    "1\n",
    "1−p) is also 0.5. This situation can be modeled using a Bernoulli Distribution\n",
    "    \n",
    "    Bernoulli Distribution: Describes a single trial or experiment with only two possible outcomes (success or failure).\n",
    "Binomial Distribution: Describes the number of successes in a fixed number (\n",
    "n) of independent and identical Bernoulli trials.   "
   ]
  },
  {
   "cell_type": "code",
   "execution_count": null,
   "id": "d4853bd1-ff62-4423-857c-d9e6586ba987",
   "metadata": {},
   "outputs": [],
   "source": [
    "To find the probability that a randomly selected observation from a normally \n",
    "distributed dataset is greater than 60, \n",
    "we can use the Z-score formula and standard normal distribution tables.\n",
    "The Z-score measures how many standard deviations an observation is from the mean.\n",
    "Z= X−μ/σ\n",
    "X is the individual data point (in this case, 60),\n",
    "μ is the mean of the dataset,\n",
    "σ is the standard deviation of the dataset.\n",
    "\n",
    "Once we calculate the Z-score, we can then use a standard normal distribution table or a calculator to find the probability corresponding to that Z-score.\n",
    "\n",
    "Let's calculate it step by step:\n",
    "\n",
    "z=60−50/10=1\n",
    "Now, we look up the Z-score of 1 in the standard normal distribution table. \n",
    "The probability corresponding to a Z-score \n",
    "of 1 is approximately 0.8413.\n",
    "\n",
    "Therefore, the probability that a randomly selected observation\n",
    "will be greater than 60 is approximately \n",
    "1−0.8413=0.1587\n",
    "1−0.8413=0.1587, or 15.87%.\n",
    "\n"
   ]
  },
  {
   "cell_type": "code",
   "execution_count": null,
   "id": "06639d20-7fe1-48c3-bbad-a9196b3cedde",
   "metadata": {},
   "outputs": [],
   "source": [
    "Q6. Consider a dataset with a mean of 50 and a standard deviation of 10. If we assume that the dataset\n",
    "is normally distributed, what is the probability that a randomly selected observation will be greater\n",
    "than 60? Use the appropriate formula and show your calculations."
   ]
  },
  {
   "cell_type": "code",
   "execution_count": null,
   "id": "80e322b3-3248-4ef3-b2fe-c7d4436df54d",
   "metadata": {},
   "outputs": [],
   "source": [
    "μ=50 (mean),\n",
    "σ=10 (standard deviation),\n",
    "X=60,\n",
    "Z= 60−50/10 =1\n",
    "\n",
    "Now, we look up the Z-score of 1 in the standard normal distribution\n",
    "table. The probability corresponding to a Z-score of 1 is approximately \n",
    "0.8413."
   ]
  },
  {
   "cell_type": "code",
   "execution_count": null,
   "id": "e1a1a09b-f1c9-4c4f-a5f6-7794c5c9ba95",
   "metadata": {},
   "outputs": [],
   "source": [
    "Q7: Explain uniform Distribution with an example."
   ]
  },
  {
   "cell_type": "code",
   "execution_count": null,
   "id": "6da56a8e-7f7b-4d57-96fc-726f6f377480",
   "metadata": {},
   "outputs": [],
   "source": [
    "The Uniform Distribution is a probability distribution where all outcomes are equally likely. In other words,\n",
    "every value within a certain range has an equal probability of occurring.\n",
    "It is characterized by a constant probability density function (PDF) across the entire range of\n",
    "possible values\n",
    "\n",
    "Consider rolling a fair six-sided die. If the die is fair, each face has an equal probability of landing face up. \n",
    "The outcome of each roll follows a uniform distribution because each of the six faces has a 1/6 probability of occurring.\n",
    "The PDF of a uniform distribution can be expressed as:\n",
    "\n",
    "f(x)= b−a\n",
    "1\n",
    "\n",
    " \n",
    "where \n",
    "a is the minimum value in the range and \n",
    "b is the maximum value.\n",
    "Uniform distributions are not limited to discrete outcomes; they can also be "
   ]
  },
  {
   "cell_type": "code",
   "execution_count": null,
   "id": "a1d997e4-0338-4f55-8673-cb76928d2dec",
   "metadata": {},
   "outputs": [],
   "source": [
    "Q8: What is the z score? State the importance of the z score."
   ]
  },
  {
   "cell_type": "code",
   "execution_count": null,
   "id": "82f77443-394b-43dd-9466-7b48a77260cc",
   "metadata": {},
   "outputs": [],
   "source": [
    "The Z-score, also known as the standard score, is a statistical measure that quantifies \n",
    "the number of standard deviations a data point is from the mean of a dataset\n",
    "\n",
    "Standardization:\n",
    "\n",
    "Z-scores standardize data, transforming it into a common scale. \n",
    "This is particularly useful when comparing data from different sources\n",
    "or with different units of measurement.\n",
    "\n",
    "Outlier Identification:\n",
    "\n",
    "Z-scores help identify outliers in a dataset. Data points with Z-scores\n",
    "significantly higher or lower than the mean may be considered outliers and warrant further investigation."
   ]
  },
  {
   "cell_type": "code",
   "execution_count": null,
   "id": "9c3f11cf-48d7-42bf-b117-7570062de241",
   "metadata": {},
   "outputs": [],
   "source": [
    "Q9: What is Central Limit Theorem? State the significance of the Central Limit Theorem."
   ]
  },
  {
   "cell_type": "code",
   "execution_count": null,
   "id": "8dcc61b1-3407-4971-af49-a99ea61afef4",
   "metadata": {},
   "outputs": [],
   "source": [
    "he Central Limit Theorem is a fundamental principle in statistics that states that, regardless of the shape \n",
    "of the original population distribution, the distribution of the sum (or average) of a large number of independent, \n",
    "identically distributed random variables will be approximately normally distributed. In simpler terms, as the sample size increases,\n",
    "the distribution of the sample mean approaches a normal distribution.\n",
    "\n",
    "Significance of the Central Limit Theorem:\n",
    "\n",
    "Normal Distribution Approximation:\n",
    "\n",
    "The Central Limit Theorem allows us to treat the distribution of sample means as approximately normal, \n",
    "even if the underlying population distribution is not normal. This is particularly important because many statistical \n",
    "methods and hypothesis tests assume normality.\n",
    " \n",
    "    Sampling Distribution of the Mean:\n",
    "\n",
    "The CLT specifically applies to the distribution of sample means. \n",
    "It tells us that,  regardless of the shape of the original population distribution, the distribution of the sample mean will be normal for a sufficiently large sample size.\n",
    "\n",
    "Statistical Inference:\n",
    "\n",
    "The normal distribution is well-understood and extensively studied. The CLT enables the use of familiar normal distribution properties for making statistical inferences about population parameters based on sample statistics."
   ]
  },
  {
   "cell_type": "code",
   "execution_count": null,
   "id": "16e27ad8-1eb0-4a70-a524-cf729f611b4c",
   "metadata": {},
   "outputs": [],
   "source": [
    "Q10: State the assumptions of the Central Limit Theorem."
   ]
  },
  {
   "cell_type": "code",
   "execution_count": null,
   "id": "44cbc4ef-0aef-4b5c-908d-278108288fe3",
   "metadata": {},
   "outputs": [],
   "source": [
    "The Central Limit Theorem (CLT) is a powerful statistical concept, \n",
    "but it relies on certain assumptions to hold true.\n",
    "The key assumptions of the Central Limit\n",
    "Random Sampling:\n",
    "\n",
    "The observations in the sample must be randomly and independently\n",
    "selected from the population. This ensures that each member of the \n",
    "population has an equal chance of being included in the sample, and\n",
    "the selections are not influenced by other factors.\n",
    "\n",
    "\n",
    "Independence:Each observation in the sample must be independent of the others.\n",
    "The outcome of one observation should not influence the outcome of another. \n",
    "Independence is crucial for the validity of the CLT, especially when dealing with large samples.\n",
    "\n",
    "Sample Size:\n",
    "\n",
    "The sample size should be sufficiently large. While there is no strict rule for what \n",
    "constitutes \"large,\" a commonly cited guideline is that a sample size of 30 or more is often considered adequate.\n",
    "\n",
    "Finite Variance:\n",
    "The population should have a finite variance. This means that the data should not have extreme outliers or\n",
    "heavy tails that would lead to an infinite variance"
   ]
  },
  {
   "cell_type": "code",
   "execution_count": null,
   "id": "9daf802c-1042-460e-ba6d-11e759dde284",
   "metadata": {},
   "outputs": [],
   "source": []
  },
  {
   "cell_type": "code",
   "execution_count": null,
   "id": "d8f16519-3d56-4ca0-b72f-302a71594c51",
   "metadata": {},
   "outputs": [],
   "source": []
  },
  {
   "cell_type": "code",
   "execution_count": null,
   "id": "d9517da7-6009-4665-a2b4-7f8719c92a3a",
   "metadata": {},
   "outputs": [],
   "source": []
  }
 ],
 "metadata": {
  "kernelspec": {
   "display_name": "Python 3 (ipykernel)",
   "language": "python",
   "name": "python3"
  },
  "language_info": {
   "codemirror_mode": {
    "name": "ipython",
    "version": 3
   },
   "file_extension": ".py",
   "mimetype": "text/x-python",
   "name": "python",
   "nbconvert_exporter": "python",
   "pygments_lexer": "ipython3",
   "version": "3.10.8"
  }
 },
 "nbformat": 4,
 "nbformat_minor": 5
}
